{
  "nbformat": 4,
  "nbformat_minor": 0,
  "metadata": {
    "colab": {
      "name": "numpy1.ipynb",
      "provenance": [],
      "collapsed_sections": [],
      "authorship_tag": "ABX9TyMLJo0buehI6TCp/yrNNJ9o",
      "include_colab_link": true
    },
    "kernelspec": {
      "name": "python3",
      "display_name": "Python 3"
    },
    "language_info": {
      "name": "python"
    }
  },
  "cells": [
    {
      "cell_type": "markdown",
      "metadata": {
        "id": "view-in-github",
        "colab_type": "text"
      },
      "source": [
        "<a href=\"https://colab.research.google.com/github/Xantosh/FreeCodeCamp-Data-Analysis/blob/main/numpy1.ipynb\" target=\"_parent\"><img src=\"https://colab.research.google.com/assets/colab-badge.svg\" alt=\"Open In Colab\"/></a>"
      ]
    },
    {
      "cell_type": "code",
      "metadata": {
        "id": "GyggB3qbKInA"
      },
      "source": [
        "import numpy as np #importing numpy library"
      ],
      "execution_count": 10,
      "outputs": []
    },
    {
      "cell_type": "code",
      "metadata": {
        "id": "QkG0C3OlDMoI"
      },
      "source": [
        "a = np.array([1,2,3,4]) #creating 1-d numpy arrays\n",
        "b = np.array([0,1,-2,4,5])"
      ],
      "execution_count": 11,
      "outputs": []
    },
    {
      "cell_type": "code",
      "metadata": {
        "colab": {
          "base_uri": "https://localhost:8080/"
        },
        "id": "wgEOQYcZD5u8",
        "outputId": "32c70454-41d0-41a1-8564-999e9b6f50e8"
      },
      "source": [
        "a[0],b[4] #accessing the array elemnts ..same as python list"
      ],
      "execution_count": 12,
      "outputs": [
        {
          "output_type": "execute_result",
          "data": {
            "text/plain": [
              "(1, 5)"
            ]
          },
          "metadata": {
            "tags": []
          },
          "execution_count": 12
        }
      ]
    },
    {
      "cell_type": "code",
      "metadata": {
        "colab": {
          "base_uri": "https://localhost:8080/"
        },
        "id": "OZzVnfHRELw6",
        "outputId": "068c3382-5c4a-469f-e2d8-eec397aba2fc"
      },
      "source": [
        "print(a[0:]) #slicing works on same way\n",
        "print(a[1:3]) #last index is n-1."
      ],
      "execution_count": 14,
      "outputs": [
        {
          "output_type": "stream",
          "text": [
            "[1 2 3 4]\n",
            "[2 3]\n"
          ],
          "name": "stdout"
        }
      ]
    },
    {
      "cell_type": "code",
      "metadata": {
        "colab": {
          "base_uri": "https://localhost:8080/"
        },
        "id": "BKsd4s9EEqO0",
        "outputId": "9b69902c-a1dd-487a-9656-227034467519"
      },
      "source": [
        "b[:-1] #negative indexing saimilar goes up n-1."
      ],
      "execution_count": 18,
      "outputs": [
        {
          "output_type": "execute_result",
          "data": {
            "text/plain": [
              "array([ 0,  1, -2,  4])"
            ]
          },
          "metadata": {
            "tags": []
          },
          "execution_count": 18
        }
      ]
    },
    {
      "cell_type": "code",
      "metadata": {
        "colab": {
          "base_uri": "https://localhost:8080/"
        },
        "id": "Qilpi4IoEs_j",
        "outputId": "0f53bb28-e615-4750-c428-f7159ac86cd4"
      },
      "source": [
        "b[:2:-1] #f -ve increment gicen even not specified goes from last to specified index-1."
      ],
      "execution_count": 21,
      "outputs": [
        {
          "output_type": "execute_result",
          "data": {
            "text/plain": [
              "array([5, 4])"
            ]
          },
          "metadata": {
            "tags": []
          },
          "execution_count": 21
        }
      ]
    },
    {
      "cell_type": "code",
      "metadata": {
        "colab": {
          "base_uri": "https://localhost:8080/"
        },
        "id": "9IwQVaJ1F-sb",
        "outputId": "18c47e77-5cd8-44ff-fc6c-9955aab5e4f9"
      },
      "source": [
        "b[[0,-1,-2]] #supports multi indexing and returns another numpy array."
      ],
      "execution_count": 22,
      "outputs": [
        {
          "output_type": "execute_result",
          "data": {
            "text/plain": [
              "array([0, 5, 4])"
            ]
          },
          "metadata": {
            "tags": []
          },
          "execution_count": 22
        }
      ]
    },
    {
      "cell_type": "code",
      "metadata": {
        "colab": {
          "base_uri": "https://localhost:8080/"
        },
        "id": "7vyl70O_Ilgs",
        "outputId": "ad274d78-5f76-42bf-850a-4681d3bf7110"
      },
      "source": [
        "a.dtype #gives the data type of the number associated with it."
      ],
      "execution_count": 23,
      "outputs": [
        {
          "output_type": "execute_result",
          "data": {
            "text/plain": [
              "dtype('int64')"
            ]
          },
          "metadata": {
            "tags": []
          },
          "execution_count": 23
        }
      ]
    },
    {
      "cell_type": "code",
      "metadata": {
        "colab": {
          "base_uri": "https://localhost:8080/"
        },
        "id": "BSDT_UMEJFeS",
        "outputId": "2c0c000e-7e0b-47a5-fb67-23f70f70abfb"
      },
      "source": [
        "np.array(b,dtype=np.int8) #can convert the data type using np method."
      ],
      "execution_count": 25,
      "outputs": [
        {
          "output_type": "execute_result",
          "data": {
            "text/plain": [
              "array([ 0,  1, -2,  4,  5], dtype=int8)"
            ]
          },
          "metadata": {
            "tags": []
          },
          "execution_count": 25
        }
      ]
    },
    {
      "cell_type": "code",
      "metadata": {
        "colab": {
          "base_uri": "https://localhost:8080/"
        },
        "id": "xXCSvKGlJnRx",
        "outputId": "6de9924b-863e-450c-b60b-538ebd636de7"
      },
      "source": [
        "c = np.array(['a','b','c']) #can store strings.\n",
        "c.dtype #unicode representation."
      ],
      "execution_count": 27,
      "outputs": [
        {
          "output_type": "execute_result",
          "data": {
            "text/plain": [
              "dtype('<U1')"
            ]
          },
          "metadata": {
            "tags": []
          },
          "execution_count": 27
        }
      ]
    },
    {
      "cell_type": "markdown",
      "metadata": {
        "id": "vj6JXBLFKZ6h"
      },
      "source": [
        "# Multi Dimensional Arrays\n",
        "\n"
      ]
    },
    {
      "cell_type": "code",
      "metadata": {
        "id": "dgymCx7BKvCI"
      },
      "source": [
        "m = np.array([\n",
        "     [1,2,3],\n",
        "     [4,5,6],\n",
        "     [7,8,9]\n",
        "])"
      ],
      "execution_count": 33,
      "outputs": []
    },
    {
      "cell_type": "code",
      "metadata": {
        "colab": {
          "base_uri": "https://localhost:8080/"
        },
        "id": "mB0jfREiNDUD",
        "outputId": "355d8812-2036-4ffc-f43f-b8036b75a9c0"
      },
      "source": [
        "m.shape # output (row,column)"
      ],
      "execution_count": 34,
      "outputs": [
        {
          "output_type": "execute_result",
          "data": {
            "text/plain": [
              "(3, 3)"
            ]
          },
          "metadata": {
            "tags": []
          },
          "execution_count": 34
        }
      ]
    },
    {
      "cell_type": "code",
      "metadata": {
        "colab": {
          "base_uri": "https://localhost:8080/"
        },
        "id": "DG0uReX3NkvR",
        "outputId": "db5020f7-d736-490d-f4ac-24086dac5c43"
      },
      "source": [
        "m.ndim #gives the dimension of array"
      ],
      "execution_count": 35,
      "outputs": [
        {
          "output_type": "execute_result",
          "data": {
            "text/plain": [
              "2"
            ]
          },
          "metadata": {
            "tags": []
          },
          "execution_count": 35
        }
      ]
    },
    {
      "cell_type": "code",
      "metadata": {
        "colab": {
          "base_uri": "https://localhost:8080/"
        },
        "id": "Wk03lb16Nu0p",
        "outputId": "bb5cc928-3d40-41aa-8922-4c4617e07434"
      },
      "source": [
        "m.size # gives the total bo of elements."
      ],
      "execution_count": 36,
      "outputs": [
        {
          "output_type": "execute_result",
          "data": {
            "text/plain": [
              "9"
            ]
          },
          "metadata": {
            "tags": []
          },
          "execution_count": 36
        }
      ]
    },
    {
      "cell_type": "code",
      "metadata": {
        "id": "O0hMv_QRONC-"
      },
      "source": [
        "n = np.array([[[1,2,3],\n",
        "               [4,5,6]],\n",
        "              [\n",
        "               [7,8,9],\n",
        "               [1,1,1]],\n",
        "               [\n",
        "                [2,2,3],\n",
        "                [7,8,9]\n",
        "               ]\n",
        "            ])"
      ],
      "execution_count": 41,
      "outputs": []
    },
    {
      "cell_type": "code",
      "metadata": {
        "colab": {
          "base_uri": "https://localhost:8080/"
        },
        "id": "-GxLVkIAO8vP",
        "outputId": "47816fbd-ac60-47d3-810b-ec1e5ed4b305"
      },
      "source": [
        "n.shape"
      ],
      "execution_count": 42,
      "outputs": [
        {
          "output_type": "execute_result",
          "data": {
            "text/plain": [
              "(3, 2, 3)"
            ]
          },
          "metadata": {
            "tags": []
          },
          "execution_count": 42
        }
      ]
    },
    {
      "cell_type": "code",
      "metadata": {
        "colab": {
          "base_uri": "https://localhost:8080/"
        },
        "id": "Um2iUTvJPqTE",
        "outputId": "e6402178-c684-478d-83ae-1d478bf8d00d"
      },
      "source": [
        "n.ndim"
      ],
      "execution_count": 43,
      "outputs": [
        {
          "output_type": "execute_result",
          "data": {
            "text/plain": [
              "3"
            ]
          },
          "metadata": {
            "tags": []
          },
          "execution_count": 43
        }
      ]
    },
    {
      "cell_type": "code",
      "metadata": {
        "colab": {
          "base_uri": "https://localhost:8080/"
        },
        "id": "zuobDwlmPxkU",
        "outputId": "6ee37977-7154-4dfd-b90c-865ea9ca982f"
      },
      "source": [
        "n.size"
      ],
      "execution_count": 44,
      "outputs": [
        {
          "output_type": "execute_result",
          "data": {
            "text/plain": [
              "18"
            ]
          },
          "metadata": {
            "tags": []
          },
          "execution_count": 44
        }
      ]
    },
    {
      "cell_type": "markdown",
      "metadata": {
        "id": "SVSZ-yWeQX9e"
      },
      "source": [
        "Note:If the dimension dont match np array falls to regular list on python.\n"
      ]
    },
    {
      "cell_type": "markdown",
      "metadata": {
        "id": "CRmvauyERCb1"
      },
      "source": [
        "#Indexing and slices of matrices."
      ]
    },
    {
      "cell_type": "code",
      "metadata": {
        "id": "28m_IL9vRG4o"
      },
      "source": [
        "#square matrices\n",
        "A = np.array([\n",
        "     #  0 1 2       \n",
        "       [7,8,9], #0\n",
        "       [3,4,5], #1\n",
        "       [1,1,1]  #2        \n",
        "])"
      ],
      "execution_count": 49,
      "outputs": []
    },
    {
      "cell_type": "code",
      "metadata": {
        "colab": {
          "base_uri": "https://localhost:8080/"
        },
        "id": "PrW4Y6JlRe5B",
        "outputId": "c8d41dfe-10cc-43d3-b25d-0ba58906c96a"
      },
      "source": [
        "A[1] #similar to list extracts the 2nd row as index starts from 0."
      ],
      "execution_count": 48,
      "outputs": [
        {
          "output_type": "execute_result",
          "data": {
            "text/plain": [
              "array([3, 4, 5])"
            ]
          },
          "metadata": {
            "tags": []
          },
          "execution_count": 48
        }
      ]
    },
    {
      "cell_type": "code",
      "metadata": {
        "colab": {
          "base_uri": "https://localhost:8080/"
        },
        "id": "foCjtznLSBmR",
        "outputId": "00ab5264-1214-4342-f6e1-80e122dab646"
      },
      "source": [
        "A[0][0] #accessing individual elemnts."
      ],
      "execution_count": 50,
      "outputs": [
        {
          "output_type": "execute_result",
          "data": {
            "text/plain": [
              "7"
            ]
          },
          "metadata": {
            "tags": []
          },
          "execution_count": 50
        }
      ]
    },
    {
      "cell_type": "code",
      "metadata": {
        "colab": {
          "base_uri": "https://localhost:8080/"
        },
        "id": "tnkKlD9qSOvn",
        "outputId": "1a36c67d-ae12-4625-8789-85e3b0c70303"
      },
      "source": [
        "A[0,0] #multidimensional selection of elements."
      ],
      "execution_count": 52,
      "outputs": [
        {
          "output_type": "execute_result",
          "data": {
            "text/plain": [
              "7"
            ]
          },
          "metadata": {
            "tags": []
          },
          "execution_count": 52
        }
      ]
    },
    {
      "cell_type": "code",
      "metadata": {
        "colab": {
          "base_uri": "https://localhost:8080/"
        },
        "id": "wDMS5urxScZH",
        "outputId": "fc028b88-84e8-42a8-eaf4-e446ffc87a54"
      },
      "source": [
        "A[0:2] #slicing for extracting rows."
      ],
      "execution_count": 53,
      "outputs": [
        {
          "output_type": "execute_result",
          "data": {
            "text/plain": [
              "array([[7, 8, 9],\n",
              "       [3, 4, 5]])"
            ]
          },
          "metadata": {
            "tags": []
          },
          "execution_count": 53
        }
      ]
    },
    {
      "cell_type": "code",
      "metadata": {
        "colab": {
          "base_uri": "https://localhost:8080/"
        },
        "id": "nxUX-9N1SxXu",
        "outputId": "046c3779-757c-4b6d-deec-888a625cc250"
      },
      "source": [
        "A[: , :2] # getting the matrix of some order selectiong the rows and columns"
      ],
      "execution_count": 54,
      "outputs": [
        {
          "output_type": "execute_result",
          "data": {
            "text/plain": [
              "array([[7, 8],\n",
              "       [3, 4],\n",
              "       [1, 1]])"
            ]
          },
          "metadata": {
            "tags": []
          },
          "execution_count": 54
        }
      ]
    },
    {
      "cell_type": "code",
      "metadata": {
        "id": "xrovFP28TTHy"
      },
      "source": [
        "A[0] = np.array([0,0,0]) #if dimensions match replace row 0."
      ],
      "execution_count": 55,
      "outputs": []
    },
    {
      "cell_type": "code",
      "metadata": {
        "colab": {
          "base_uri": "https://localhost:8080/"
        },
        "id": "rP-ZEyBoTcWu",
        "outputId": "cfa67024-c788-4005-ecaf-85c8eb7675f8"
      },
      "source": [
        "A"
      ],
      "execution_count": 56,
      "outputs": [
        {
          "output_type": "execute_result",
          "data": {
            "text/plain": [
              "array([[0, 0, 0],\n",
              "       [3, 4, 5],\n",
              "       [1, 1, 1]])"
            ]
          },
          "metadata": {
            "tags": []
          },
          "execution_count": 56
        }
      ]
    },
    {
      "cell_type": "code",
      "metadata": {
        "colab": {
          "base_uri": "https://localhost:8080/"
        },
        "id": "7P2ULDa8Tdog",
        "outputId": "657ea54b-506a-47a2-b40b-7a020ca6a00b"
      },
      "source": [
        "A[1] = 2  #replaces the entire row with the given number.\n",
        "A"
      ],
      "execution_count": 57,
      "outputs": [
        {
          "output_type": "execute_result",
          "data": {
            "text/plain": [
              "array([[0, 0, 0],\n",
              "       [2, 2, 2],\n",
              "       [1, 1, 1]])"
            ]
          },
          "metadata": {
            "tags": []
          },
          "execution_count": 57
        }
      ]
    },
    {
      "cell_type": "markdown",
      "metadata": {
        "id": "8ToXM7c5T7Ke"
      },
      "source": [
        "#Summary Stastics"
      ]
    },
    {
      "cell_type": "code",
      "metadata": {
        "id": "tmSOKkKzT90C"
      },
      "source": [
        "s = np.array([1,2,3,4])\n"
      ],
      "execution_count": 58,
      "outputs": []
    },
    {
      "cell_type": "code",
      "metadata": {
        "colab": {
          "base_uri": "https://localhost:8080/"
        },
        "id": "-hgKP12jUDMT",
        "outputId": "ed7e3a00-f62d-483d-b384-9020f6157a7e"
      },
      "source": [
        "s.sum() #gives the total sum of elemnts."
      ],
      "execution_count": 59,
      "outputs": [
        {
          "output_type": "execute_result",
          "data": {
            "text/plain": [
              "10"
            ]
          },
          "metadata": {
            "tags": []
          },
          "execution_count": 59
        }
      ]
    },
    {
      "cell_type": "code",
      "metadata": {
        "colab": {
          "base_uri": "https://localhost:8080/"
        },
        "id": "TQmgQuLiUHOj",
        "outputId": "1143b35e-89be-4179-8994-ff2bc5923f96"
      },
      "source": [
        "s.mean() #gives the average of all elemnts in an array."
      ],
      "execution_count": 60,
      "outputs": [
        {
          "output_type": "execute_result",
          "data": {
            "text/plain": [
              "2.5"
            ]
          },
          "metadata": {
            "tags": []
          },
          "execution_count": 60
        }
      ]
    },
    {
      "cell_type": "code",
      "metadata": {
        "colab": {
          "base_uri": "https://localhost:8080/"
        },
        "id": "6cQ-luj6UPtT",
        "outputId": "1f09b787-f90d-4c2c-d154-ed248d2c3ec3"
      },
      "source": [
        "s.std() #gives the standard deviation."
      ],
      "execution_count": 61,
      "outputs": [
        {
          "output_type": "execute_result",
          "data": {
            "text/plain": [
              "1.118033988749895"
            ]
          },
          "metadata": {
            "tags": []
          },
          "execution_count": 61
        }
      ]
    },
    {
      "cell_type": "code",
      "metadata": {
        "colab": {
          "base_uri": "https://localhost:8080/"
        },
        "id": "TBYZb4upUUHy",
        "outputId": "d1d2aab5-8080-4c4d-81d7-9fc94527fc77"
      },
      "source": [
        "s.var() #gives the variance of the elemnts."
      ],
      "execution_count": 62,
      "outputs": [
        {
          "output_type": "execute_result",
          "data": {
            "text/plain": [
              "1.25"
            ]
          },
          "metadata": {
            "tags": []
          },
          "execution_count": 62
        }
      ]
    },
    {
      "cell_type": "markdown",
      "metadata": {
        "id": "u3AYbUD5UaD2"
      },
      "source": [
        "Note: Works for multi dim array."
      ]
    },
    {
      "cell_type": "code",
      "metadata": {
        "id": "zfHV3rAYUe-J"
      },
      "source": [
        "B = np.array([\n",
        "     #  0 1 2       \n",
        "       [7,8,9], #0\n",
        "       [3,4,5], #1\n",
        "       [1,1,1]  #2        \n",
        "])"
      ],
      "execution_count": 63,
      "outputs": []
    },
    {
      "cell_type": "code",
      "metadata": {
        "colab": {
          "base_uri": "https://localhost:8080/"
        },
        "id": "9I7_pzATUwrp",
        "outputId": "7ef6c0e4-2601-42d2-ae3c-06d9abb9223a"
      },
      "source": [
        "B.sum(axis=0) #returns array giving sum of individual elemets of column for if axis=0"
      ],
      "execution_count": 64,
      "outputs": [
        {
          "output_type": "execute_result",
          "data": {
            "text/plain": [
              "array([11, 13, 15])"
            ]
          },
          "metadata": {
            "tags": []
          },
          "execution_count": 64
        }
      ]
    },
    {
      "cell_type": "code",
      "metadata": {
        "colab": {
          "base_uri": "https://localhost:8080/"
        },
        "id": "8GyfUfZKU_qh",
        "outputId": "68a63812-e6d7-4c77-d60f-71e3b9b52da1"
      },
      "source": [
        "B.sum(axis=1) # returns array of sum of individual elemensts of row for x = 1"
      ],
      "execution_count": 65,
      "outputs": [
        {
          "output_type": "execute_result",
          "data": {
            "text/plain": [
              "array([24, 12,  3])"
            ]
          },
          "metadata": {
            "tags": []
          },
          "execution_count": 65
        }
      ]
    },
    {
      "cell_type": "code",
      "metadata": {
        "id": "-aWqvXLbVPsR"
      },
      "source": [
        "n3 = np.array([[[1,2,3],\n",
        "               [4,5,6]],\n",
        "              [\n",
        "               [7,8,9],\n",
        "               [1,1,1]],\n",
        "               [\n",
        "                [2,2,3],\n",
        "                [7,8,9]\n",
        "               ]\n",
        "            ])"
      ],
      "execution_count": 67,
      "outputs": []
    },
    {
      "cell_type": "code",
      "metadata": {
        "colab": {
          "base_uri": "https://localhost:8080/"
        },
        "id": "0RSJJKjTV2eL",
        "outputId": "53307934-cc19-40fd-f7c7-089352988961"
      },
      "source": [
        "n3.sum(axis=(1))"
      ],
      "execution_count": 69,
      "outputs": [
        {
          "output_type": "execute_result",
          "data": {
            "text/plain": [
              "array([[ 5,  7,  9],\n",
              "       [ 8,  9, 10],\n",
              "       [ 9, 10, 12]])"
            ]
          },
          "metadata": {
            "tags": []
          },
          "execution_count": 69
        }
      ]
    }
  ]
}