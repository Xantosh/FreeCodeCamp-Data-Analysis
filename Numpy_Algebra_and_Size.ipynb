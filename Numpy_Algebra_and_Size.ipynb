{
  "nbformat": 4,
  "nbformat_minor": 0,
  "metadata": {
    "colab": {
      "name": "Numpy Algebra and Size.ipynb",
      "provenance": [],
      "authorship_tag": "ABX9TyNR1q/NbGJlqcf3FRxM/WC5",
      "include_colab_link": true
    },
    "kernelspec": {
      "name": "python3",
      "display_name": "Python 3"
    },
    "language_info": {
      "name": "python"
    }
  },
  "cells": [
    {
      "cell_type": "markdown",
      "metadata": {
        "id": "view-in-github",
        "colab_type": "text"
      },
      "source": [
        "<a href=\"https://colab.research.google.com/github/Xantosh/FreeCodeCamp-Data-Analysis/blob/main/Numpy_Algebra_and_Size.ipynb\" target=\"_parent\"><img src=\"https://colab.research.google.com/assets/colab-badge.svg\" alt=\"Open In Colab\"/></a>"
      ]
    },
    {
      "cell_type": "markdown",
      "metadata": {
        "id": "BGS0vTI7AZ3n"
      },
      "source": [
        "#Linear Algebra\n"
      ]
    },
    {
      "cell_type": "code",
      "metadata": {
        "id": "oCrube4jAtx1"
      },
      "source": [
        "import numpy as np\n",
        "import sys"
      ],
      "execution_count": 12,
      "outputs": []
    },
    {
      "cell_type": "code",
      "metadata": {
        "id": "KDebn0pS_-Oz"
      },
      "source": [
        "a = np.array([\n",
        "              [1,2,3],\n",
        "              [4,5,6],\n",
        "              [7,8,9]\n",
        "])                    "
      ],
      "execution_count": 3,
      "outputs": []
    },
    {
      "cell_type": "code",
      "metadata": {
        "id": "AyE0-VYoApnZ"
      },
      "source": [
        "b = np.array([\n",
        "              [1],\n",
        "              [2],\n",
        "              [3]\n",
        "])"
      ],
      "execution_count": 4,
      "outputs": []
    },
    {
      "cell_type": "code",
      "metadata": {
        "colab": {
          "base_uri": "https://localhost:8080/"
        },
        "id": "NudNv7NmA5LP",
        "outputId": "78d036bf-dee4-4c2b-e71a-4bf0f491ed49"
      },
      "source": [
        "a.dot(b)  #equivalent to matrix multiplication aslong as n = m."
      ],
      "execution_count": 5,
      "outputs": [
        {
          "output_type": "execute_result",
          "data": {
            "text/plain": [
              "array([[14],\n",
              "       [32],\n",
              "       [50]])"
            ]
          },
          "metadata": {
            "tags": []
          },
          "execution_count": 5
        }
      ]
    },
    {
      "cell_type": "code",
      "metadata": {
        "colab": {
          "base_uri": "https://localhost:8080/"
        },
        "id": "sWZ-hYQLA7Dv",
        "outputId": "0f3ee88a-b6c1-4bcb-b6db-4a00bb41d604"
      },
      "source": [
        "a @ b   #cross product"
      ],
      "execution_count": 6,
      "outputs": [
        {
          "output_type": "execute_result",
          "data": {
            "text/plain": [
              "array([[14],\n",
              "       [32],\n",
              "       [50]])"
            ]
          },
          "metadata": {
            "tags": []
          },
          "execution_count": 6
        }
      ]
    },
    {
      "cell_type": "code",
      "metadata": {
        "colab": {
          "base_uri": "https://localhost:8080/"
        },
        "id": "SGq6gxiLBh5G",
        "outputId": "7a0743d7-a8d0-4017-c438-710f62b772a5"
      },
      "source": [
        "a.T #transpose"
      ],
      "execution_count": 7,
      "outputs": [
        {
          "output_type": "execute_result",
          "data": {
            "text/plain": [
              "array([[1, 4, 7],\n",
              "       [2, 5, 8],\n",
              "       [3, 6, 9]])"
            ]
          },
          "metadata": {
            "tags": []
          },
          "execution_count": 7
        }
      ]
    },
    {
      "cell_type": "code",
      "metadata": {
        "colab": {
          "base_uri": "https://localhost:8080/"
        },
        "id": "YIbBEPt_CHgt",
        "outputId": "bc62e312-edb4-4d86-d422-430aece96d12"
      },
      "source": [
        "sys.getsizeof(1) #import sys to get the memory size using syze of"
      ],
      "execution_count": 13,
      "outputs": [
        {
          "output_type": "execute_result",
          "data": {
            "text/plain": [
              "28"
            ]
          },
          "metadata": {
            "tags": []
          },
          "execution_count": 13
        }
      ]
    },
    {
      "cell_type": "code",
      "metadata": {
        "colab": {
          "base_uri": "https://localhost:8080/"
        },
        "id": "8Pkl6fD7DPl7",
        "outputId": "9c9cdba1-96f9-4b36-cc45-4701f4bb939d"
      },
      "source": [
        "f = list(range(1000))\n",
        "%time sum([x ** 2 for x in f])"
      ],
      "execution_count": 19,
      "outputs": [
        {
          "output_type": "stream",
          "text": [
            "CPU times: user 379 µs, sys: 44 µs, total: 423 µs\n",
            "Wall time: 432 µs\n"
          ],
          "name": "stdout"
        },
        {
          "output_type": "execute_result",
          "data": {
            "text/plain": [
              "332833500"
            ]
          },
          "metadata": {
            "tags": []
          },
          "execution_count": 19
        }
      ]
    },
    {
      "cell_type": "code",
      "metadata": {
        "id": "_4vPN0B5Do4x"
      },
      "source": [
        ""
      ],
      "execution_count": null,
      "outputs": []
    }
  ]
}