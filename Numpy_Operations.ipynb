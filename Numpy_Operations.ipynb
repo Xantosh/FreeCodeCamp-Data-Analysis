{
  "nbformat": 4,
  "nbformat_minor": 0,
  "metadata": {
    "colab": {
      "name": "Numpy Operations.ipynb",
      "provenance": [],
      "authorship_tag": "ABX9TyPk6ISsrRYsK/h92tRlh6UE",
      "include_colab_link": true
    },
    "kernelspec": {
      "name": "python3",
      "display_name": "Python 3"
    },
    "language_info": {
      "name": "python"
    }
  },
  "cells": [
    {
      "cell_type": "markdown",
      "metadata": {
        "id": "view-in-github",
        "colab_type": "text"
      },
      "source": [
        "<a href=\"https://colab.research.google.com/github/Xantosh/FreeCodeCamp-Data-Analysis/blob/main/Numpy_Operations.ipynb\" target=\"_parent\"><img src=\"https://colab.research.google.com/assets/colab-badge.svg\" alt=\"Open In Colab\"/></a>"
      ]
    },
    {
      "cell_type": "markdown",
      "metadata": {
        "id": "NodTGqt7zdIJ"
      },
      "source": [
        "#Vectorized operations"
      ]
    },
    {
      "cell_type": "code",
      "metadata": {
        "id": "tQogjvgSxUE1"
      },
      "source": [
        "import numpy as np"
      ],
      "execution_count": 2,
      "outputs": []
    },
    {
      "cell_type": "code",
      "metadata": {
        "colab": {
          "base_uri": "https://localhost:8080/"
        },
        "id": "bjMY_UgGxzIK",
        "outputId": "3397781a-e5d6-477e-b3cb-a51e1a0d4307"
      },
      "source": [
        "a = np.arange(5) #produces an npa rray starting from 0 to n-1.\n",
        "a"
      ],
      "execution_count": 6,
      "outputs": [
        {
          "output_type": "execute_result",
          "data": {
            "text/plain": [
              "array([0, 1, 2, 3, 4])"
            ]
          },
          "metadata": {
            "tags": []
          },
          "execution_count": 6
        }
      ]
    },
    {
      "cell_type": "code",
      "metadata": {
        "colab": {
          "base_uri": "https://localhost:8080/"
        },
        "id": "a5d_DN6Nx5PH",
        "outputId": "7dd61291-5e45-4358-8f94-31f222b39b6f"
      },
      "source": [
        "a + 10   #add a scalar value to all elements of array"
      ],
      "execution_count": 7,
      "outputs": [
        {
          "output_type": "execute_result",
          "data": {
            "text/plain": [
              "array([10, 11, 12, 13, 14])"
            ]
          },
          "metadata": {
            "tags": []
          },
          "execution_count": 7
        }
      ]
    },
    {
      "cell_type": "code",
      "metadata": {
        "colab": {
          "base_uri": "https://localhost:8080/"
        },
        "id": "I2ObJecoyT_Q",
        "outputId": "6ee6082e-61c4-4ee1-93a8-7c89cb844aa1"
      },
      "source": [
        "a * 10  #all the arithemtic operations on array with scalar will be operated on each elemnts."
      ],
      "execution_count": 8,
      "outputs": [
        {
          "output_type": "execute_result",
          "data": {
            "text/plain": [
              "array([ 0, 10, 20, 30, 40])"
            ]
          },
          "metadata": {
            "tags": []
          },
          "execution_count": 8
        }
      ]
    },
    {
      "cell_type": "code",
      "metadata": {
        "id": "mOzLgVe6yjs3"
      },
      "source": [
        "a += 100 # similar to a = a + 100 but on array"
      ],
      "execution_count": 9,
      "outputs": []
    },
    {
      "cell_type": "code",
      "metadata": {
        "colab": {
          "base_uri": "https://localhost:8080/"
        },
        "id": "MRl9IjsJy8m9",
        "outputId": "7e1381b0-fc73-4ad1-f9fb-1c549aa8c976"
      },
      "source": [
        "a"
      ],
      "execution_count": 10,
      "outputs": [
        {
          "output_type": "execute_result",
          "data": {
            "text/plain": [
              "array([100, 101, 102, 103, 104])"
            ]
          },
          "metadata": {
            "tags": []
          },
          "execution_count": 10
        }
      ]
    },
    {
      "cell_type": "code",
      "metadata": {
        "colab": {
          "base_uri": "https://localhost:8080/"
        },
        "id": "5JDWRmP8y-B9",
        "outputId": "f2be79d1-ccf7-496f-b87b-387a22dbc384"
      },
      "source": [
        "b = np.arange(5)\n",
        "b"
      ],
      "execution_count": 18,
      "outputs": [
        {
          "output_type": "execute_result",
          "data": {
            "text/plain": [
              "array([0, 1, 2, 3, 4])"
            ]
          },
          "metadata": {
            "tags": []
          },
          "execution_count": 18
        }
      ]
    },
    {
      "cell_type": "markdown",
      "metadata": {
        "id": "ChsXn-Tgz-36"
      },
      "source": [
        "#Broadcasting"
      ]
    },
    {
      "cell_type": "markdown",
      "metadata": {
        "id": "nBO1OMx10JIc"
      },
      "source": [
        "Note: it is different for multiplication as every element multiplies and is not as dot product."
      ]
    },
    {
      "cell_type": "code",
      "metadata": {
        "colab": {
          "base_uri": "https://localhost:8080/"
        },
        "id": "UNqKhslAzqIj",
        "outputId": "5669fe1a-c982-4e81-d1c9-7845bfb525e7"
      },
      "source": [
        "a + b  #for the arithmetic oprations between array sthey must be of same size."
      ],
      "execution_count": 16,
      "outputs": [
        {
          "output_type": "execute_result",
          "data": {
            "text/plain": [
              "array([100, 102, 104, 106, 108])"
            ]
          },
          "metadata": {
            "tags": []
          },
          "execution_count": 16
        }
      ]
    },
    {
      "cell_type": "code",
      "metadata": {
        "colab": {
          "base_uri": "https://localhost:8080/"
        },
        "id": "0TeQzGa6ztpM",
        "outputId": "ed3fc83b-b51f-44b1-ebf4-71aea612fd9a"
      },
      "source": [
        "a * b"
      ],
      "execution_count": 17,
      "outputs": [
        {
          "output_type": "execute_result",
          "data": {
            "text/plain": [
              "array([  0, 101, 204, 309, 416])"
            ]
          },
          "metadata": {
            "tags": []
          },
          "execution_count": 17
        }
      ]
    },
    {
      "cell_type": "code",
      "metadata": {
        "colab": {
          "base_uri": "https://localhost:8080/"
        },
        "id": "0wTtndTy0mnV",
        "outputId": "8e7791f4-b0e7-4f29-f021-09d2aa3becad"
      },
      "source": [
        "a[[0,-1]]"
      ],
      "execution_count": 19,
      "outputs": [
        {
          "output_type": "execute_result",
          "data": {
            "text/plain": [
              "array([100, 104])"
            ]
          },
          "metadata": {
            "tags": []
          },
          "execution_count": 19
        }
      ]
    },
    {
      "cell_type": "code",
      "metadata": {
        "colab": {
          "base_uri": "https://localhost:8080/"
        },
        "id": "P6iur3Up8itV",
        "outputId": "6955d8dc-840b-41d3-e67a-bec7f720cf7b"
      },
      "source": [
        "a[[True,False,True,False,True]] #choosing elements based on boolean values."
      ],
      "execution_count": 21,
      "outputs": [
        {
          "output_type": "execute_result",
          "data": {
            "text/plain": [
              "array([100, 102, 104])"
            ]
          },
          "metadata": {
            "tags": []
          },
          "execution_count": 21
        }
      ]
    },
    {
      "cell_type": "code",
      "metadata": {
        "colab": {
          "base_uri": "https://localhost:8080/"
        },
        "id": "R7ZazQuy80ro",
        "outputId": "070b1d69-fda9-48ab-9be1-6987b55f92d7"
      },
      "source": [
        "a  >= 2 #comparing an array with constant returns boolean array."
      ],
      "execution_count": 22,
      "outputs": [
        {
          "output_type": "execute_result",
          "data": {
            "text/plain": [
              "array([ True,  True,  True,  True,  True])"
            ]
          },
          "metadata": {
            "tags": []
          },
          "execution_count": 22
        }
      ]
    },
    {
      "cell_type": "code",
      "metadata": {
        "colab": {
          "base_uri": "https://localhost:8080/"
        },
        "id": "LpbZPb9F9iiP",
        "outputId": "6a14e70d-9d40-470a-c943-65a9c70fe9cc"
      },
      "source": [
        "a[a >= 2] #return array based on the conditions inside square bracket."
      ],
      "execution_count": 23,
      "outputs": [
        {
          "output_type": "execute_result",
          "data": {
            "text/plain": [
              "array([100, 101, 102, 103, 104])"
            ]
          },
          "metadata": {
            "tags": []
          },
          "execution_count": 23
        }
      ]
    },
    {
      "cell_type": "code",
      "metadata": {
        "colab": {
          "base_uri": "https://localhost:8080/"
        },
        "id": "0D2VhUiZ90MY",
        "outputId": "f4ce2c49-abeb-4deb-c77b-40ef917b1f98"
      },
      "source": [
        "c = np.random.randint(1,5,size = (2,2))\n",
        "c"
      ],
      "execution_count": 29,
      "outputs": [
        {
          "output_type": "execute_result",
          "data": {
            "text/plain": [
              "array([[4, 3],\n",
              "       [3, 4]])"
            ]
          },
          "metadata": {
            "tags": []
          },
          "execution_count": 29
        }
      ]
    },
    {
      "cell_type": "markdown",
      "metadata": {
        "id": "ZS8jkcB9_Cf4"
      },
      "source": [
        "Note : '|' represents OR and '&' represnts AND"
      ]
    }
  ]
}